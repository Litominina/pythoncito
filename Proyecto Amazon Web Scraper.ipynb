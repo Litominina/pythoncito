{
 "cells": [
  {
   "cell_type": "markdown",
   "id": "b7e2d117",
   "metadata": {},
   "source": [
    "# Proyecto Amazon Web Scraper"
   ]
  },
  {
   "cell_type": "code",
   "execution_count": 2,
   "id": "7e09404f",
   "metadata": {},
   "outputs": [],
   "source": [
    "# import libraries\n",
    "\n",
    "from bs4 import BeautifulSoup\n",
    "import requests\n",
    "import time\n",
    "import datetime\n",
    "import smtplib"
   ]
  },
  {
   "cell_type": "code",
   "execution_count": 30,
   "id": "2e8555c4",
   "metadata": {},
   "outputs": [
    {
     "name": "stdout",
     "output_type": "stream",
     "text": [
      "\n",
      "                   Harry Potter Glasses Deathly Hallows Mischief Managed 5 Pack Ankle Socks\n",
      "                  \n"
     ]
    }
   ],
   "source": [
    "# Conectar a la pagina web de medias hp\n",
    "\n",
    "URL = 'https://www.amazon.com/Glasses-Deathly-Hallows-Mischief-Managed/dp/B07FV5KNNT/ref=sr_1_18_sspa?__mk_es_US=%C3%85M%C3%85%C5%BD%C3%95%C3%91&crid=37NR9WJVB16IR&keywords=harry+potter&qid=1688575959&sprefix=harry+po%2Caps%2C237&sr=8-18-spons&sp_csd=d2lkZ2V0TmFtZT1zcF9hdGZfbmV4dA&psc=1&smid=A1WCJ6LZLDP8WH'\n",
    "\n",
    "headers = {\"User-Agent\": \"Mozilla/5.0 (Windows NT 10.0; Win64; x64) AppleWebKit/537.36 (KHTML, like Gecko) Chrome/114.0.0.0 Safari/537.36\", \"Accept-Encoding\":\"gzip, deflate\", \"Accept\":\"text/html,application/xhtml+xml,application/xml;q=0.9,*/*;q=0.8\", \"DNT\":\"1\",\"Connection\":\"close\", \"Upgrade-Insecure-Requests\":\"1\"}\n",
    "\n",
    "page = requests.get(URL, headers=headers)\n",
    "\n",
    "soup1 = BeautifulSoup(page.content, \"html.parser\")\n",
    "\n",
    "soup2 = BeautifulSoup(soup1.prettify(), \"html.parser\")\n",
    "\n",
    "title = soup2.find('span', attrs={'id':'productTitle'}).get_text()\n",
    "\n",
    "print(title)"
   ]
  },
  {
   "cell_type": "code",
   "execution_count": 31,
   "id": "dfc5c4bc",
   "metadata": {},
   "outputs": [
    {
     "name": "stdout",
     "output_type": "stream",
     "text": [
      "\n",
      "                  $9.99\n",
      "                 \n"
     ]
    }
   ],
   "source": [
    "#sacnaod el precio de la web\n",
    "\n",
    "price = soup2.find('span', attrs={'class':'a-offscreen'}).get_text()\n",
    "\n",
    "print(price)"
   ]
  },
  {
   "cell_type": "code",
   "execution_count": 33,
   "id": "e2e6d4ed",
   "metadata": {},
   "outputs": [
    {
     "name": "stdout",
     "output_type": "stream",
     "text": [
      "Harry Potter Glasses Deathly Hallows Mischief Managed 5 Pack Ankle Socks\n",
      "9.99\n"
     ]
    }
   ],
   "source": [
    "#limpiando la data\n",
    "\n",
    "precio = price.strip()[1:]\n",
    "titulo = title.strip()\n",
    "\n",
    "print(titulo)\n",
    "print(precio)"
   ]
  },
  {
   "cell_type": "code",
   "execution_count": 38,
   "id": "6cb39ccb",
   "metadata": {},
   "outputs": [
    {
     "name": "stdout",
     "output_type": "stream",
     "text": [
      "2023-07-05\n"
     ]
    }
   ],
   "source": [
    "# creando una fecha para revisar cuando fue recogida tu data\n",
    "\n",
    "import datetime\n",
    "\n",
    "hoy = datetime.date.today()\n",
    "\n",
    "print(hoy)"
   ]
  },
  {
   "cell_type": "code",
   "execution_count": 41,
   "id": "b51c63ca",
   "metadata": {},
   "outputs": [],
   "source": [
    "# crear csv y escribir los encabezados y datos en el archivo\n",
    "\n",
    "import csv\n",
    "\n",
    "header = ['Nombre', 'Precio','Fecha']\n",
    "data = [titulo,precio,hoy]\n",
    "\n",
    "with open('RaspadorInfoAmazon.csv', 'w', newline='', encoding='UTF8') as f:\n",
    "    escritor = csv.writer(f)\n",
    "    escritor.writerow(header)\n",
    "    escritor.writerow(data)\n"
   ]
  },
  {
   "cell_type": "code",
   "execution_count": 44,
   "id": "8731b832",
   "metadata": {},
   "outputs": [
    {
     "name": "stdout",
     "output_type": "stream",
     "text": [
      "                                              Nombre  Precio       Fecha\n",
      "0  Harry Potter Glasses Deathly Hallows Mischief ...    9.99  2023-07-05\n",
      "1  Harry Potter Glasses Deathly Hallows Mischief ...    9.99  2023-07-05\n"
     ]
    }
   ],
   "source": [
    "import pandas as pd\n",
    "\n",
    "df = pd.read_csv(r'C:\\Users\\Litobar\\RaspadorInfoAmazon.csv')\n",
    "\n",
    "print(df)"
   ]
  },
  {
   "cell_type": "code",
   "execution_count": 43,
   "id": "efe6cb74",
   "metadata": {},
   "outputs": [],
   "source": [
    "# ahora estamos agregando datos al csv\n",
    "\n",
    "with open('RaspadorInfoAmazon.csv', 'a+', newline='', encoding='UTF8') as f:\n",
    "    escritor = csv.writer(f)\n",
    "    escritor.writerow(data)"
   ]
  },
  {
   "cell_type": "code",
   "execution_count": null,
   "id": "6f84d93f",
   "metadata": {},
   "outputs": [],
   "source": [
    "\n",
    "\n",
    "def check_price():\n",
    "    URL = 'https://www.amazon.com/Glasses-Deathly-Hallows-Mischief-Managed/dp/B07FV5KNNT/ref=sr_1_18_sspa?__mk_es_US=%C3%85M%C3%85%C5%BD%C3%95%C3%91&crid=37NR9WJVB16IR&keywords=harry+potter&qid=1688575959&sprefix=harry+po%2Caps%2C237&sr=8-18-spons&sp_csd=d2lkZ2V0TmFtZT1zcF9hdGZfbmV4dA&psc=1&smid=A1WCJ6LZLDP8WH'\n",
    "\n",
    "    headers = {\"User-Agent\": \"Mozilla/5.0 (Windows NT 10.0; Win64; x64) AppleWebKit/537.36 (KHTML, like Gecko) Chrome/114.0.0.0 Safari/537.36\", \"Accept-Encoding\":\"gzip, deflate\", \"Accept\":\"text/html,application/xhtml+xml,application/xml;q=0.9,*/*;q=0.8\", \"DNT\":\"1\",\"Connection\":\"close\", \"Upgrade-Insecure-Requests\":\"1\"}\n",
    "\n",
    "    page = requests.get(URL, headers=headers)\n",
    "\n",
    "    soup1 = BeautifulSoup(page.content, \"html.parser\")\n",
    "\n",
    "    soup2 = BeautifulSoup(soup1.prettify(), \"html.parser\")\n",
    "\n",
    "    title = soup2.find('span', attrs={'id':'productTitle'}).get_text()\n",
    "    \n",
    "    price = soup2.find('span', attrs={'class':'a-offscreen'}).get_text()\n",
    "\n",
    "    print(title)\n",
    "    \n",
    "    print(price)\n",
    "\n",
    "    precio = price.strip()[1:]\n",
    "    titulo = title.strip()\n",
    "    \n",
    "    import datetime\n",
    "\n",
    "    hoy = datetime.date.today()\n",
    "\n",
    "    \n",
    "    import csv\n",
    "\n",
    "    header = ['Nombre', 'Precio','Fecha']\n",
    "    data = [titulo,precio,hoy]\n",
    "\n",
    "    with open('RaspadorInfoAmazon.csv', 'a+', newline='', encoding='UTF8') as f:\n",
    "        escritor = csv.writer(f)\n",
    "        escritor.writerow(data)\n",
    "        \n",
    "    if(price <8):\n",
    "        send_mail()"
   ]
  },
  {
   "cell_type": "code",
   "execution_count": null,
   "id": "566dd681",
   "metadata": {},
   "outputs": [],
   "source": [
    "while(True):\n",
    "    check_price()\n",
    "    time.sleep(86400)"
   ]
  },
  {
   "cell_type": "code",
   "execution_count": null,
   "id": "29414821",
   "metadata": {},
   "outputs": [],
   "source": [
    "import pandas as pd\n",
    "\n",
    "df = pd.read_csv(r'C:\\Users\\Litobar\\RaspadorInfoAmazon.csv')\n",
    "\n",
    "print(df)"
   ]
  },
  {
   "cell_type": "code",
   "execution_count": null,
   "id": "26b9934e",
   "metadata": {},
   "outputs": [],
   "source": [
    "# If uou want to try sending yourself an email (just for fun) when a price hits below a certain level you can try it\n",
    "# out with this script\n",
    "\n",
    "def send_mail():\n",
    "    server = smtplib.SMTP_SSL('smtp.gmail.com',465)\n",
    "    server.ehlo()\n",
    "    #server.starttls()\n",
    "    server.ehlo()\n",
    "    server.login('AlexTheAnalyst95@gmail.com','xxxxxxxxxxxxxx')\n",
    "    \n",
    "    subject = \"The Shirt you want is below $15! Now is your chance to buy!\"\n",
    "    body = \"Alex, This is the moment we have been waiting for. Now is your chance to pick up the shirt of your dreams. Don't mess it up! Link here: https://www.amazon.com/Funny-Data-Systems-Business-Analyst/dp/B07FNW9FGJ/ref=sr_1_3?dchild=1&keywords=data+analyst+tshirt&qid=1626655184&sr=8-3\"\n",
    "   \n",
    "    msg = f\"Subject: {subject}\\n\\n{body}\"\n",
    "    \n",
    "    server.sendmail(\n",
    "        'AlexTheAnalyst95@gmail.com',\n",
    "        msg\n",
    "     \n",
    "    )"
   ]
  },
  {
   "cell_type": "code",
   "execution_count": null,
   "id": "fb10a647",
   "metadata": {},
   "outputs": [],
   "source": []
  },
  {
   "cell_type": "code",
   "execution_count": null,
   "id": "1d1adac9",
   "metadata": {},
   "outputs": [],
   "source": []
  },
  {
   "cell_type": "code",
   "execution_count": null,
   "id": "0802a8a5",
   "metadata": {},
   "outputs": [],
   "source": []
  },
  {
   "cell_type": "code",
   "execution_count": null,
   "id": "c5292dd9",
   "metadata": {},
   "outputs": [],
   "source": []
  },
  {
   "cell_type": "code",
   "execution_count": null,
   "id": "556482f8",
   "metadata": {},
   "outputs": [],
   "source": []
  },
  {
   "cell_type": "code",
   "execution_count": null,
   "id": "d097b5f2",
   "metadata": {},
   "outputs": [],
   "source": []
  },
  {
   "cell_type": "code",
   "execution_count": null,
   "id": "5ccaae70",
   "metadata": {},
   "outputs": [],
   "source": []
  },
  {
   "cell_type": "code",
   "execution_count": null,
   "id": "3bb05b08",
   "metadata": {},
   "outputs": [],
   "source": []
  },
  {
   "cell_type": "code",
   "execution_count": null,
   "id": "07a6ab00",
   "metadata": {},
   "outputs": [],
   "source": []
  },
  {
   "cell_type": "code",
   "execution_count": null,
   "id": "23ad4f44",
   "metadata": {},
   "outputs": [],
   "source": []
  },
  {
   "cell_type": "code",
   "execution_count": null,
   "id": "54240249",
   "metadata": {},
   "outputs": [],
   "source": []
  },
  {
   "cell_type": "code",
   "execution_count": null,
   "id": "09ad3400",
   "metadata": {},
   "outputs": [],
   "source": []
  },
  {
   "cell_type": "code",
   "execution_count": null,
   "id": "60800b57",
   "metadata": {},
   "outputs": [],
   "source": []
  },
  {
   "cell_type": "code",
   "execution_count": null,
   "id": "78ec40a3",
   "metadata": {},
   "outputs": [],
   "source": []
  },
  {
   "cell_type": "code",
   "execution_count": null,
   "id": "35cdf130",
   "metadata": {},
   "outputs": [],
   "source": []
  },
  {
   "cell_type": "code",
   "execution_count": null,
   "id": "0d38fd63",
   "metadata": {},
   "outputs": [],
   "source": []
  },
  {
   "cell_type": "code",
   "execution_count": null,
   "id": "334bef83",
   "metadata": {},
   "outputs": [],
   "source": []
  },
  {
   "cell_type": "code",
   "execution_count": null,
   "id": "8d08ff82",
   "metadata": {},
   "outputs": [],
   "source": []
  },
  {
   "cell_type": "code",
   "execution_count": null,
   "id": "67589ce0",
   "metadata": {},
   "outputs": [],
   "source": []
  },
  {
   "cell_type": "code",
   "execution_count": null,
   "id": "bd9572da",
   "metadata": {},
   "outputs": [],
   "source": []
  },
  {
   "cell_type": "code",
   "execution_count": null,
   "id": "420f8359",
   "metadata": {},
   "outputs": [],
   "source": []
  },
  {
   "cell_type": "code",
   "execution_count": null,
   "id": "2b7ea24a",
   "metadata": {},
   "outputs": [],
   "source": []
  },
  {
   "cell_type": "code",
   "execution_count": null,
   "id": "310fc710",
   "metadata": {},
   "outputs": [],
   "source": []
  },
  {
   "cell_type": "code",
   "execution_count": null,
   "id": "2e27af68",
   "metadata": {},
   "outputs": [],
   "source": []
  },
  {
   "cell_type": "code",
   "execution_count": null,
   "id": "0afebfdc",
   "metadata": {},
   "outputs": [],
   "source": []
  },
  {
   "cell_type": "code",
   "execution_count": null,
   "id": "a6350182",
   "metadata": {},
   "outputs": [],
   "source": []
  },
  {
   "cell_type": "code",
   "execution_count": null,
   "id": "3824fa3d",
   "metadata": {},
   "outputs": [],
   "source": []
  },
  {
   "cell_type": "code",
   "execution_count": null,
   "id": "c49b5542",
   "metadata": {},
   "outputs": [],
   "source": []
  },
  {
   "cell_type": "code",
   "execution_count": null,
   "id": "23b34149",
   "metadata": {},
   "outputs": [],
   "source": []
  }
 ],
 "metadata": {
  "kernelspec": {
   "display_name": "Python 3 (ipykernel)",
   "language": "python",
   "name": "python3"
  },
  "language_info": {
   "codemirror_mode": {
    "name": "ipython",
    "version": 3
   },
   "file_extension": ".py",
   "mimetype": "text/x-python",
   "name": "python",
   "nbconvert_exporter": "python",
   "pygments_lexer": "ipython3",
   "version": "3.10.9"
  }
 },
 "nbformat": 4,
 "nbformat_minor": 5
}
