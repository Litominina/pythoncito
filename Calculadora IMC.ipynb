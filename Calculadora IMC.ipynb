{
 "cells": [
  {
   "cell_type": "markdown",
   "id": "a67cad0e",
   "metadata": {},
   "source": [
    "# Calculadora IMC"
   ]
  },
  {
   "cell_type": "code",
   "execution_count": null,
   "id": "09dde62f",
   "metadata": {},
   "outputs": [],
   "source": [
    "#Composición corporal\tÍndice de masa corporal (IMC)\n",
    "#Peso inferior al normal\tMenos de 18.5\n",
    "#Normal\t18.5 – 24.9\n",
    "#Peso superior al normal\t25.0 – 29.9\n",
    "#Obesidad\tMás de 30.0"
   ]
  },
  {
   "cell_type": "code",
   "execution_count": null,
   "id": "31dec7f7",
   "metadata": {},
   "outputs": [],
   "source": [
    "nombre = input(\"Ingresa tu nombre: \")\n",
    "\n",
    "peso = int(input(\"Ingresa tu peso en kilos: \"))\n",
    "\n",
    "altura = int(input(\"Ingresa tu altura centimetros: \"))\n",
    "\n",
    "IMC = (peso)/(altura*altura)*10000\n",
    "\n",
    "print(\"Tu IMC es: \" + str(IMC))\n",
    "\n",
    "if IMC>0:\n",
    "    if(IMC<18.5):\n",
    "        print(nombre + \", tienes un peso inferior al normal.\")\n",
    "    elif(IMC<=24.9):\n",
    "        print(nombre + \", tienes un peso normal.\")\n",
    "    elif(IMC<=29.9):\n",
    "        print(nombre + \", tienes un peso superior al normal.\")\n",
    "    elif(IMC>=30):\n",
    "        print(nombre + \", tienes obesidad.\")\n",
    "    else:\n",
    "        print(nombre + \", Por favor ingresa valores validos\")"
   ]
  },
  {
   "cell_type": "code",
   "execution_count": null,
   "id": "1a624d7b",
   "metadata": {},
   "outputs": [],
   "source": []
  },
  {
   "cell_type": "code",
   "execution_count": null,
   "id": "fcc2950c",
   "metadata": {},
   "outputs": [],
   "source": []
  },
  {
   "cell_type": "code",
   "execution_count": null,
   "id": "c2cd1bed",
   "metadata": {},
   "outputs": [],
   "source": []
  },
  {
   "cell_type": "code",
   "execution_count": null,
   "id": "916afc96",
   "metadata": {},
   "outputs": [],
   "source": []
  },
  {
   "cell_type": "code",
   "execution_count": null,
   "id": "10fc8a22",
   "metadata": {},
   "outputs": [],
   "source": []
  },
  {
   "cell_type": "code",
   "execution_count": null,
   "id": "3d7e237e",
   "metadata": {},
   "outputs": [],
   "source": []
  },
  {
   "cell_type": "code",
   "execution_count": null,
   "id": "ab756665",
   "metadata": {},
   "outputs": [],
   "source": []
  },
  {
   "cell_type": "code",
   "execution_count": null,
   "id": "37deedbc",
   "metadata": {},
   "outputs": [],
   "source": []
  },
  {
   "cell_type": "code",
   "execution_count": null,
   "id": "0a5a9819",
   "metadata": {},
   "outputs": [],
   "source": []
  },
  {
   "cell_type": "code",
   "execution_count": null,
   "id": "14bd7f6d",
   "metadata": {},
   "outputs": [],
   "source": []
  },
  {
   "cell_type": "code",
   "execution_count": null,
   "id": "6509a067",
   "metadata": {},
   "outputs": [],
   "source": []
  },
  {
   "cell_type": "code",
   "execution_count": null,
   "id": "08ef40a2",
   "metadata": {},
   "outputs": [],
   "source": []
  },
  {
   "cell_type": "code",
   "execution_count": null,
   "id": "090112a6",
   "metadata": {},
   "outputs": [],
   "source": []
  },
  {
   "cell_type": "code",
   "execution_count": null,
   "id": "5769c0e5",
   "metadata": {},
   "outputs": [],
   "source": []
  },
  {
   "cell_type": "code",
   "execution_count": null,
   "id": "d5ae7f23",
   "metadata": {},
   "outputs": [],
   "source": []
  }
 ],
 "metadata": {
  "kernelspec": {
   "display_name": "Python 3 (ipykernel)",
   "language": "python",
   "name": "python3"
  },
  "language_info": {
   "codemirror_mode": {
    "name": "ipython",
    "version": 3
   },
   "file_extension": ".py",
   "mimetype": "text/x-python",
   "name": "python",
   "nbconvert_exporter": "python",
   "pygments_lexer": "ipython3",
   "version": "3.10.9"
  }
 },
 "nbformat": 4,
 "nbformat_minor": 5
}
