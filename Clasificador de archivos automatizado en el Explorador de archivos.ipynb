{
 "cells": [
  {
   "cell_type": "markdown",
   "id": "336cc273",
   "metadata": {},
   "source": [
    "# Clasificador de archivos automatizado en el Explorador de archivos"
   ]
  },
  {
   "cell_type": "code",
   "execution_count": 18,
   "id": "b451da1f",
   "metadata": {},
   "outputs": [],
   "source": [
    "import os, shutil"
   ]
  },
  {
   "cell_type": "code",
   "execution_count": 19,
   "id": "169b3f0f",
   "metadata": {},
   "outputs": [],
   "source": [
    "path = r\"C:/Users/Litobar/Desktop/Hola Mundo jeje/\""
   ]
  },
  {
   "cell_type": "code",
   "execution_count": 20,
   "id": "3e5a4d7d",
   "metadata": {},
   "outputs": [],
   "source": [
    "nombres_arch = os.listdir(path)"
   ]
  },
  {
   "cell_type": "code",
   "execution_count": 21,
   "id": "31f776eb",
   "metadata": {},
   "outputs": [],
   "source": [
    "nombres_carpetas = ['arch excel','arch imagenes','arch texto']\n",
    "\n",
    "for bucle in range(0,3):\n",
    "\n",
    "    if not os.path.exists(path+nombres_carpetas[bucle]):\n",
    "        #print(path+nombres_carpetas[bucle])\n",
    "        os.makedirs((path+nombres_carpetas[bucle]))\n",
    "        \n",
    "for file in nombres_arch:\n",
    "    if \".xlsx\" in file and not os.path.exists(path+'arch excel/'+ file):\n",
    "        shutil.move(path + file, path +'arch excel/' +file)\n",
    "    elif \".jpg\" in file and not os.path.exists(path+'arch imagenes/'+ file):\n",
    "        shutil.move(path + file, path +'arch imagenes/' +file)\n",
    "    elif \".JPG\" in file and not os.path.exists(path+'arch imagenes/'+ file):\n",
    "        shutil.move(path + file, path +'arch imagenes/' +file)\n",
    "    elif \".txt\" in file and not os.path.exists(path+'arch texto/'+ file):\n",
    "        shutil.move(path + file, path +'arch texto/' +file)"
   ]
  },
  {
   "cell_type": "code",
   "execution_count": 17,
   "id": "653e3918",
   "metadata": {},
   "outputs": [],
   "source": []
  },
  {
   "cell_type": "code",
   "execution_count": null,
   "id": "d7e0cfed",
   "metadata": {},
   "outputs": [],
   "source": []
  },
  {
   "cell_type": "code",
   "execution_count": null,
   "id": "cbb2bae0",
   "metadata": {},
   "outputs": [],
   "source": []
  },
  {
   "cell_type": "code",
   "execution_count": null,
   "id": "30623297",
   "metadata": {},
   "outputs": [],
   "source": []
  },
  {
   "cell_type": "code",
   "execution_count": null,
   "id": "c11e6c86",
   "metadata": {},
   "outputs": [],
   "source": []
  },
  {
   "cell_type": "code",
   "execution_count": null,
   "id": "949e2f05",
   "metadata": {},
   "outputs": [],
   "source": []
  },
  {
   "cell_type": "code",
   "execution_count": null,
   "id": "da5e2a16",
   "metadata": {},
   "outputs": [],
   "source": []
  },
  {
   "cell_type": "code",
   "execution_count": null,
   "id": "c40a9d52",
   "metadata": {},
   "outputs": [],
   "source": []
  },
  {
   "cell_type": "code",
   "execution_count": null,
   "id": "0fb92679",
   "metadata": {},
   "outputs": [],
   "source": []
  },
  {
   "cell_type": "code",
   "execution_count": null,
   "id": "18250775",
   "metadata": {},
   "outputs": [],
   "source": []
  },
  {
   "cell_type": "code",
   "execution_count": null,
   "id": "a28adc9e",
   "metadata": {},
   "outputs": [],
   "source": []
  },
  {
   "cell_type": "code",
   "execution_count": null,
   "id": "983dad3a",
   "metadata": {},
   "outputs": [],
   "source": []
  },
  {
   "cell_type": "code",
   "execution_count": null,
   "id": "05c73279",
   "metadata": {},
   "outputs": [],
   "source": []
  },
  {
   "cell_type": "code",
   "execution_count": null,
   "id": "030f2b86",
   "metadata": {},
   "outputs": [],
   "source": []
  },
  {
   "cell_type": "code",
   "execution_count": null,
   "id": "872cc13c",
   "metadata": {},
   "outputs": [],
   "source": []
  },
  {
   "cell_type": "code",
   "execution_count": null,
   "id": "11a7f6a5",
   "metadata": {},
   "outputs": [],
   "source": []
  },
  {
   "cell_type": "code",
   "execution_count": null,
   "id": "23bfa39a",
   "metadata": {},
   "outputs": [],
   "source": []
  },
  {
   "cell_type": "code",
   "execution_count": null,
   "id": "58ada7f5",
   "metadata": {},
   "outputs": [],
   "source": []
  },
  {
   "cell_type": "code",
   "execution_count": null,
   "id": "5afb1bdc",
   "metadata": {},
   "outputs": [],
   "source": []
  },
  {
   "cell_type": "code",
   "execution_count": null,
   "id": "f93298a7",
   "metadata": {},
   "outputs": [],
   "source": []
  },
  {
   "cell_type": "code",
   "execution_count": null,
   "id": "5dcbb860",
   "metadata": {},
   "outputs": [],
   "source": []
  }
 ],
 "metadata": {
  "kernelspec": {
   "display_name": "Python 3 (ipykernel)",
   "language": "python",
   "name": "python3"
  },
  "language_info": {
   "codemirror_mode": {
    "name": "ipython",
    "version": 3
   },
   "file_extension": ".py",
   "mimetype": "text/x-python",
   "name": "python",
   "nbconvert_exporter": "python",
   "pygments_lexer": "ipython3",
   "version": "3.10.9"
  }
 },
 "nbformat": 4,
 "nbformat_minor": 5
}
